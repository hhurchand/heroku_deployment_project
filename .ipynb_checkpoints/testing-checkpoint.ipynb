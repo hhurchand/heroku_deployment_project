{
 "cells": [
  {
   "cell_type": "code",
   "execution_count": 105,
   "id": "e44bb0c7",
   "metadata": {},
   "outputs": [],
   "source": [
    "from selenium import webdriver\n",
    "from selenium.webdriver.common.by import By\n",
    "from selenium.webdriver.support.select import Select\n",
    "from selenium.webdriver.common.action_chains import ActionChains\n",
    "from selenium.webdriver import ActionChains\n",
    "from bs4 import BeautifulSoup\n",
    "import requests\n",
    "import json\n",
    "\n",
    "import datetime\n",
    "import re\n",
    "from dateutil.relativedelta import relativedelta\n",
    "\n",
    "import pms_cargo_data"
   ]
  },
  {
   "cell_type": "code",
   "execution_count": 2,
   "id": "a7650ed0",
   "metadata": {},
   "outputs": [],
   "source": [
    "#! pip install streamlit"
   ]
  },
  {
   "cell_type": "code",
   "execution_count": 3,
   "id": "301eb41d",
   "metadata": {},
   "outputs": [
    {
     "name": "stderr",
     "output_type": "stream",
     "text": [
      "2022-05-19 15:12:30.713 INFO    numexpr.utils: Note: NumExpr detected 16 cores but \"NUMEXPR_MAX_THREADS\" not set, so enforcing safe limit of 8.\n",
      "2022-05-19 15:12:30.716 INFO    numexpr.utils: NumExpr defaulting to 8 threads.\n"
     ]
    }
   ],
   "source": [
    "import streamlit as st"
   ]
  },
  {
   "cell_type": "code",
   "execution_count": 4,
   "id": "0ae6c090",
   "metadata": {},
   "outputs": [],
   "source": [
    "import time\n",
    "import string\n",
    "import pandas as pd\n",
    "from selenium.webdriver.common.keys import Keys\n",
    "import html_to_json\n",
    "dict_way_bill_dates = dict()\n",
    "wait_time_sec = 10 \n",
    "df = pd.DataFrame()\n",
    "\n",
    "def driver_load():\n",
    "    return webdriver.Chrome(executable_path='/usr/local/bin/chromedriver')\n",
    "        \n",
    "def test_cargo(code_dict):\n",
    "    for way_bill in code_dict:\n",
    "        # load driver\n",
    "        driver = driver_load()\n",
    "        searchAddress = \"https://www.cma-cgm.com/ebusiness/tracking\"\n",
    "        try:\n",
    "            driver.get(searchAddress)\n",
    "            time.sleep(wait_time_sec)\n",
    "            # enter way_bill number in input field\n",
    "            element = driver.find_element(By.XPATH,\"//*[@id='Reference']\")\n",
    "            element.send_keys(way_bill)\n",
    "            # click submit button\n",
    "            submit = driver.find_element(By.XPATH,\"//*[@id='btnTracking']\")\n",
    "            submit.click()\n",
    "            time.sleep(2)\n",
    "            # get ETA\n",
    "            x = driver.find_element(By.XPATH,'//*[@id=\"gridTrackingDetails\"]/div[2]/table//tr[last()]//td[last()-4]').text\n",
    "            y = driver.find_element(By.XPATH,'//*[@id=\"gridTrackingDetails\"]/div[2]/table//tr[last()]//td[last()-2]').text\n",
    "            # location is given as Eg. MONTREAL, QC. Pick only montreal\n",
    "            location = y.split(\",\")[0]\n",
    "            # Example of date format \"Friday, 13-May-202206:00\" received\n",
    "            reformat_x = re.findall(\"\\d\\d?-[a-zA-Z]{3}-[0-9]{4}\",x)[0]\n",
    "            x_new = pd.to_datetime(reformat_x,format=\"%d-%b-%Y\").strftime(\"%Y-%m-%d\")\n",
    "            df.loc[way_bill,\"location\"] = location\n",
    "            df.loc[way_bill,\"ETA\"] = x_new\n",
    "            dict_way_bill_dates[way_bill] = [x_new]\n",
    "            driver.close()\n",
    "            \n",
    "        except:\n",
    "            dict_way_bill_dates[way_bill] = \"\"\n",
    "            df.loc[way_bill,\"ETA\"] = \"\"\n",
    "            location = \"\"\n",
    "            df.loc[way_bill,\"location\"] = location\n",
    "            driver.close()\n",
    "    return df.loc[way_bill,\"ETA\"],df.loc[way_bill,\"location\"]\n"
   ]
  },
  {
   "cell_type": "code",
   "execution_count": null,
   "id": "c56c2d3d",
   "metadata": {},
   "outputs": [],
   "source": [
    "uploaded_file = st.file_uploader('Choose a file')\n",
    "df1=pd.read_csv(uploaded_file)"
   ]
  },
  {
   "cell_type": "code",
   "execution_count": null,
   "id": "b91ea45d",
   "metadata": {},
   "outputs": [],
   "source": [
    "df1"
   ]
  }
 ],
 "metadata": {
  "kernelspec": {
   "display_name": "Python 3 (ipykernel)",
   "language": "python",
   "name": "python3"
  },
  "language_info": {
   "codemirror_mode": {
    "name": "ipython",
    "version": 3
   },
   "file_extension": ".py",
   "mimetype": "text/x-python",
   "name": "python",
   "nbconvert_exporter": "python",
   "pygments_lexer": "ipython3",
   "version": "3.8.12"
  }
 },
 "nbformat": 4,
 "nbformat_minor": 5
}
